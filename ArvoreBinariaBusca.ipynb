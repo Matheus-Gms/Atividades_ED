{
  "nbformat": 4,
  "nbformat_minor": 0,
  "metadata": {
    "colab": {
      "provenance": []
    },
    "kernelspec": {
      "name": "python3",
      "display_name": "Python 3"
    },
    "language_info": {
      "name": "python"
    }
  },
  "cells": [
    {
      "cell_type": "code",
      "execution_count": 1,
      "metadata": {
        "id": "MzJD1Lu4NSB-"
      },
      "outputs": [],
      "source": [
        "class No:\n",
        "  def __init__(self, dado):\n",
        "    self.dado = dado\n",
        "    self.direita = None\n",
        "    self.esquerda = None"
      ]
    },
    {
      "cell_type": "code",
      "source": [
        "class ArvBB:\n",
        "\n",
        "    def __init__(self):\n",
        "      self.raiz = None\n",
        "\n",
        "    def insere(self, valor):\n",
        "        no_pai = None\n",
        "        aux = self.raiz\n",
        "        while(aux):\n",
        "            no_pai = aux\n",
        "            if valor < aux.dado:\n",
        "                aux = aux.esquerda\n",
        "            else:\n",
        "                aux = aux.direita\n",
        "        if no_pai is None:\n",
        "            self.raiz = No(valor)\n",
        "        elif valor < no_pai.dado:\n",
        "            no_pai.esquerda = No(valor)\n",
        "        else:\n",
        "            no_pai.direita = No(valor)\n",
        "\n",
        "    def in_Ordem_(self, raiz):\n",
        "          if raiz != None:\n",
        "            self.in_Ordem_(raiz.esquerda)\n",
        "            print(raiz.dado, end=\" \")\n",
        "            self.in_Ordem_(raiz.direita)\n",
        "\n",
        "    def in_Ordem(self):\n",
        "          print(\"\\nIn-ordem: \")\n",
        "          self.in_Ordem_(self.raiz)\n",
        "    \n",
        "    def busca_(self, raiz, valor):\n",
        "        if raiz is None:\n",
        "          return None\n",
        "        elif raiz.dado == valor:\n",
        "            return raiz\n",
        "        elif valor < raiz.dado:\n",
        "            return self.busca_(raiz.esquerda, valor)\n",
        "        else:\n",
        "          return self.busca_(raiz.direita, valor)\n",
        "    \n",
        "    def busca(self, valor):\n",
        "      return self.busca_(self.raiz, valor)"
      ],
      "metadata": {
        "id": "UZ6gqCh6OrMg"
      },
      "execution_count": 202,
      "outputs": []
    },
    {
      "cell_type": "code",
      "source": [
        "arvore = ArvBB()"
      ],
      "metadata": {
        "id": "0fJV_D25Tqxk"
      },
      "execution_count": 203,
      "outputs": []
    },
    {
      "cell_type": "code",
      "source": [
        "arvore.insere(5)\n",
        "arvore.insere(4)\n",
        "arvore.insere(7)\n",
        "arvore.insere(10)\n",
        "arvore.insere(15)"
      ],
      "metadata": {
        "id": "Ax7k1bffTuKr"
      },
      "execution_count": 204,
      "outputs": []
    },
    {
      "cell_type": "code",
      "source": [
        "arvore.in_Ordem()"
      ],
      "metadata": {
        "colab": {
          "base_uri": "https://localhost:8080/"
        },
        "id": "MfOeBsdyT7RJ",
        "outputId": "9e295109-a5f6-422c-e3c9-1f14f54e6091"
      },
      "execution_count": 205,
      "outputs": [
        {
          "output_type": "stream",
          "name": "stdout",
          "text": [
            "\n",
            "In-ordem: \n",
            "4 5 7 10 15 "
          ]
        }
      ]
    },
    {
      "cell_type": "code",
      "source": [
        "arvore.busca(5)"
      ],
      "metadata": {
        "colab": {
          "base_uri": "https://localhost:8080/"
        },
        "id": "6kw6GWcsQiwD",
        "outputId": "fe65dee1-604c-41de-951d-9e897bc6bf37"
      },
      "execution_count": 206,
      "outputs": [
        {
          "output_type": "execute_result",
          "data": {
            "text/plain": [
              "<__main__.No at 0x7f3aec870fd0>"
            ]
          },
          "metadata": {},
          "execution_count": 206
        }
      ]
    },
    {
      "cell_type": "code",
      "source": [
        "arvore.busca(10)"
      ],
      "metadata": {
        "colab": {
          "base_uri": "https://localhost:8080/"
        },
        "id": "UuZNp90mRXQh",
        "outputId": "3450a9bd-665d-4588-b082-e5121b180ba2"
      },
      "execution_count": 201,
      "outputs": [
        {
          "output_type": "execute_result",
          "data": {
            "text/plain": [
              "<__main__.No at 0x7f3aec8233d0>"
            ]
          },
          "metadata": {},
          "execution_count": 201
        }
      ]
    },
    {
      "cell_type": "code",
      "source": [
        "arvore.busca(7)"
      ],
      "metadata": {
        "colab": {
          "base_uri": "https://localhost:8080/"
        },
        "id": "PxqD8XzSU9dP",
        "outputId": "9a9f7fac-81c8-4483-bb8f-0b844bc72f80"
      },
      "execution_count": 194,
      "outputs": [
        {
          "output_type": "execute_result",
          "data": {
            "text/plain": [
              "<__main__.No at 0x7f3af5e8fad0>"
            ]
          },
          "metadata": {},
          "execution_count": 194
        }
      ]
    }
  ]
}