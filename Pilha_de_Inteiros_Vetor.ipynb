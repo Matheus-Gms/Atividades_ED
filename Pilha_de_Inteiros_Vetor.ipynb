{
  "nbformat": 4,
  "nbformat_minor": 0,
  "metadata": {
    "colab": {
      "provenance": [],
      "collapsed_sections": []
    },
    "kernelspec": {
      "name": "python3",
      "display_name": "Python 3"
    },
    "language_info": {
      "name": "python"
    }
  },
  "cells": [
    {
      "cell_type": "code",
      "execution_count": null,
      "metadata": {
        "id": "U0Ktc8QcHIGO"
      },
      "outputs": [],
      "source": [
        "class Pilha:\n",
        "  def __init__(self):\n",
        "    self.dados = []\n",
        "    self.tamanho = 0\n",
        "    self.tamMax = 10\n",
        "\n",
        "  def vazia(self):\n",
        "    if not self.tamanho:\n",
        "      return True\n",
        "    return False\n",
        "  \n",
        "  def cheia(self):\n",
        "    if (self.tamanho == self.tamMax):\n",
        "      return True\n",
        "    return False\n",
        "\n",
        "  def tamanho_(self):\n",
        "    return self.tamanho\n",
        "\n",
        "  def insereTopo(self, dado):\n",
        "    while(self.tamanho < self.tamMax):\n",
        "      self.dados.append(dado)\n",
        "      self.tamanho += 1\n",
        "    else:\n",
        "      return \"Lista Cheia\"\n",
        "\n",
        "  def removeTopo(self):\n",
        "    if (self.vazia() == True):\n",
        "      return \"Lista Vazia\"\n",
        "    \n",
        "    else:\n",
        "      self.dados.pop(-1)\n",
        "      self.tamanho -= 1\n",
        "\n",
        "  def lerTopo(self):\n",
        "    if (self.vazia() == True):\n",
        "      return 'Lista Vazia'\n",
        "    return self.dados[-1]\n",
        "  \n",
        "  def imprime(self):\n",
        "    return self.dados\n"
      ]
    }
  ]
}