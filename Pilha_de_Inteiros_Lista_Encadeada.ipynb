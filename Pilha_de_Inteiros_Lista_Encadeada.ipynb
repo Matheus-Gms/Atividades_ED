{
  "nbformat": 4,
  "nbformat_minor": 0,
  "metadata": {
    "colab": {
      "provenance": []
    },
    "kernelspec": {
      "name": "python3",
      "display_name": "Python 3"
    },
    "language_info": {
      "name": "python"
    }
  },
  "cells": [
    {
      "cell_type": "code",
      "execution_count": null,
      "metadata": {
        "id": "FNGx2f2zjLtK"
      },
      "outputs": [],
      "source": [
        "class No:\n",
        "  def __init__(self, dados):\n",
        "    self.dados = dados\n",
        "    self.proximo = None"
      ]
    },
    {
      "cell_type": "code",
      "source": [
        "class Pilha:\n",
        "  def __init__(self):\n",
        "    self.topo = None\n",
        "    self.tamanho = 0\n",
        "    \n",
        "  def vazia(self):\n",
        "    if not self.tamanho:\n",
        "      return True\n",
        "    False\n",
        "  \n",
        "  def tamanho_(self):\n",
        "    return self.tamanho\n",
        "\n",
        "  def insereTopo(self, dado):\n",
        "    aux = No(dado)\n",
        "    if (self.vazia () == True):\n",
        "      self.topo = aux\n",
        "    \n",
        "    else:\n",
        "      aux.proximo = self.topo\n",
        "      self.topo = aux\n",
        "    self.tamanho += 1\n",
        "\n",
        "  def removeTopo(self):\n",
        "    if (self.vazia() == True):\n",
        "      print(\"Lista Vazia\")\n",
        "\n",
        "    else:\n",
        "      self.topo = self.topo.proximo\n",
        "      self.tamanho -= 1\n",
        "\n",
        "  def lerTopo(self):\n",
        "    if (self.vazia() == True):\n",
        "      print(\"Lista Vazia\")\n",
        "    \n",
        "    else:\n",
        "      return self.topo.dados\n",
        "\n",
        "  def imprime(self):\n",
        "    pilha = []\n",
        "    dado_pilha = self.topo\n",
        "    while(dado_pilha != None):\n",
        "      pilha.append(dado_pilha.dados)\n",
        "      dado_pilha = dado_pilha.proximo\n",
        "    return pilha"
      ],
      "metadata": {
        "id": "brO-mEAQrfPt"
      },
      "execution_count": null,
      "outputs": []
    },
    {
      "cell_type": "code",
      "source": [
        "pilha = Pilha()"
      ],
      "metadata": {
        "id": "Vl3CPaPgMO5o"
      },
      "execution_count": null,
      "outputs": []
    },
    {
      "cell_type": "code",
      "source": [
        "pilha.vazia()"
      ],
      "metadata": {
        "colab": {
          "base_uri": "https://localhost:8080/"
        },
        "id": "-65LqNXaMSEH",
        "outputId": "c4e4d52a-ce8e-4d34-aa30-904fa1e5cc0f"
      },
      "execution_count": null,
      "outputs": [
        {
          "output_type": "execute_result",
          "data": {
            "text/plain": [
              "True"
            ]
          },
          "metadata": {},
          "execution_count": 4
        }
      ]
    },
    {
      "cell_type": "code",
      "source": [
        "pilha.tamanho_()"
      ],
      "metadata": {
        "colab": {
          "base_uri": "https://localhost:8080/"
        },
        "id": "tPMJis64MURW",
        "outputId": "b79191fb-069b-4b26-ad24-6af92d87b044"
      },
      "execution_count": null,
      "outputs": [
        {
          "output_type": "execute_result",
          "data": {
            "text/plain": [
              "0"
            ]
          },
          "metadata": {},
          "execution_count": 5
        }
      ]
    },
    {
      "cell_type": "code",
      "source": [
        "pilha.insereTopo(1)"
      ],
      "metadata": {
        "id": "7UP4SklCMWqu"
      },
      "execution_count": null,
      "outputs": []
    },
    {
      "cell_type": "code",
      "source": [
        "pilha.tamanho_()"
      ],
      "metadata": {
        "colab": {
          "base_uri": "https://localhost:8080/"
        },
        "id": "G_7YYxGPMnBA",
        "outputId": "37c18ae6-b62b-408c-8478-70d4e8f08d90"
      },
      "execution_count": null,
      "outputs": [
        {
          "output_type": "execute_result",
          "data": {
            "text/plain": [
              "1"
            ]
          },
          "metadata": {},
          "execution_count": 7
        }
      ]
    },
    {
      "cell_type": "code",
      "source": [
        "pilha.imprime()"
      ],
      "metadata": {
        "colab": {
          "base_uri": "https://localhost:8080/"
        },
        "id": "XBX4vMqfMoHo",
        "outputId": "3947deb7-f674-4fb2-e471-14c61a274a43"
      },
      "execution_count": null,
      "outputs": [
        {
          "output_type": "execute_result",
          "data": {
            "text/plain": [
              "[1]"
            ]
          },
          "metadata": {},
          "execution_count": 8
        }
      ]
    },
    {
      "cell_type": "code",
      "source": [
        "pilha.insereTopo(2)"
      ],
      "metadata": {
        "id": "36LLjG0RM4g0"
      },
      "execution_count": null,
      "outputs": []
    },
    {
      "cell_type": "code",
      "source": [
        "pilha.tamanho_()"
      ],
      "metadata": {
        "colab": {
          "base_uri": "https://localhost:8080/"
        },
        "id": "HvVZO08eNXfu",
        "outputId": "6faab746-8f43-475f-d060-bbd6169b2fdb"
      },
      "execution_count": null,
      "outputs": [
        {
          "output_type": "execute_result",
          "data": {
            "text/plain": [
              "2"
            ]
          },
          "metadata": {},
          "execution_count": 10
        }
      ]
    },
    {
      "cell_type": "code",
      "source": [
        "pilha.lerTopo()"
      ],
      "metadata": {
        "colab": {
          "base_uri": "https://localhost:8080/"
        },
        "id": "DvR6gEO7NlgS",
        "outputId": "9c8882a6-d8f6-4652-b65d-0bf4b01fc74a"
      },
      "execution_count": null,
      "outputs": [
        {
          "output_type": "execute_result",
          "data": {
            "text/plain": [
              "2"
            ]
          },
          "metadata": {},
          "execution_count": 11
        }
      ]
    },
    {
      "cell_type": "code",
      "source": [
        "pilha.insereTopo(3)"
      ],
      "metadata": {
        "id": "B1VXS2IvNoki"
      },
      "execution_count": null,
      "outputs": []
    },
    {
      "cell_type": "code",
      "source": [
        "pilha.lerTopo()"
      ],
      "metadata": {
        "colab": {
          "base_uri": "https://localhost:8080/"
        },
        "id": "JRyd_B2wZKeD",
        "outputId": "55ee86e7-ed85-4d65-ed9a-b7130f66ac28"
      },
      "execution_count": null,
      "outputs": [
        {
          "output_type": "execute_result",
          "data": {
            "text/plain": [
              "3"
            ]
          },
          "metadata": {},
          "execution_count": 13
        }
      ]
    },
    {
      "cell_type": "code",
      "source": [
        "pilha.imprime()"
      ],
      "metadata": {
        "colab": {
          "base_uri": "https://localhost:8080/"
        },
        "id": "I5Bi9J6uZLng",
        "outputId": "cc134726-1bca-4157-80b0-6f3c21adde74"
      },
      "execution_count": null,
      "outputs": [
        {
          "output_type": "execute_result",
          "data": {
            "text/plain": [
              "[3, 2, 1]"
            ]
          },
          "metadata": {},
          "execution_count": 14
        }
      ]
    },
    {
      "cell_type": "code",
      "source": [
        "pilha.removeTopo()"
      ],
      "metadata": {
        "id": "-TK4bP6lZXrh"
      },
      "execution_count": null,
      "outputs": []
    },
    {
      "cell_type": "code",
      "source": [
        "pilha.imprime()"
      ],
      "metadata": {
        "colab": {
          "base_uri": "https://localhost:8080/"
        },
        "id": "u7XmIXixm1KP",
        "outputId": "096d1f51-4e4b-427b-d119-666b7b166a4f"
      },
      "execution_count": null,
      "outputs": [
        {
          "output_type": "execute_result",
          "data": {
            "text/plain": [
              "[2, 1]"
            ]
          },
          "metadata": {},
          "execution_count": 16
        }
      ]
    }
  ]
}